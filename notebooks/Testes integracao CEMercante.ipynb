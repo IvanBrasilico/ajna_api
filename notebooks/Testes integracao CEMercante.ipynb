{
 "cells": [
  {
   "cell_type": "code",
   "execution_count": 43,
   "metadata": {
    "ExecuteTime": {
     "end_time": "2019-10-07T14:26:37.768167Z",
     "start_time": "2019-10-07T14:26:37.745322Z"
    }
   },
   "outputs": [
    {
     "name": "stdout",
     "output_type": "stream",
     "text": [
      "The autoreload extension is already loaded. To reload it, use:\n",
      "  %reload_ext autoreload\n"
     ]
    }
   ],
   "source": [
    "%load_ext autoreload\n",
    "%autoreload 2\n",
    "import pandas as pd\n",
    "import os\n",
    "import sqlalchemy\n",
    "\n",
    "from xml.etree import ElementTree\n",
    "\n",
    "import mercante\n",
    "\n",
    "engine = sqlalchemy.create_engine(\n",
    "    'mysql+mysqlconnector://ivan@localhost:3306/mercante')\n"
   ]
  },
  {
   "cell_type": "code",
   "execution_count": 44,
   "metadata": {
    "ExecuteTime": {
     "end_time": "2019-10-07T14:26:38.390909Z",
     "start_time": "2019-10-07T14:26:38.364800Z"
    }
   },
   "outputs": [],
   "source": [
    "from collections import Counter\n",
    "\n",
    "count_objetos = Counter()\n"
   ]
  },
  {
   "cell_type": "code",
   "execution_count": 45,
   "metadata": {
    "ExecuteTime": {
     "end_time": "2019-10-07T14:27:08.209528Z",
     "start_time": "2019-10-07T14:26:39.988777Z"
    }
   },
   "outputs": [],
   "source": [
    "\n",
    "\n",
    "lista_arquivos = os.listdir(mercante.MERCANTE_DIR)\n",
    "for arquivo in lista_arquivos:\n",
    "    xtree = ElementTree.parse(os.path.join(mercante.MERCANTE_DIR, arquivo))\n",
    "    xroot = xtree.getroot()\n",
    "    objetos = []\n",
    "    for node in xroot:\n",
    "        classe = mercante.classes.get(node.tag)\n",
    "        if classe:\n",
    "            count_objetos[classe]+=1\n",
    "            # print(node.tag, node.text)\n",
    "            objeto = classe()\n",
    "            objeto._parse_node(node)\n",
    "            # objeto = Conhecimento()\n",
    "            # objeto._parse_node(node)\n",
    "            # print(objeto)\n",
    "            objetos.append(objeto._to_dict())\n",
    "    df = pd.DataFrame(objetos)\n",
    "    try:\n",
    "        df.to_sql(node.tag, engine, if_exists='append')\n",
    "    except Exception as err:\n",
    "        print('Erro ocorrido no arquivo %s.' % arquivo)\n",
    "        print(err, exc_info=True)\n",
    "    "
   ]
  },
  {
   "cell_type": "code",
   "execution_count": 46,
   "metadata": {
    "ExecuteTime": {
     "end_time": "2019-10-07T14:27:08.244830Z",
     "start_time": "2019-10-07T14:27:08.213725Z"
    }
   },
   "outputs": [
    {
     "name": "stdout",
     "output_type": "stream",
     "text": [
      "187 arquivos processados como 53959 objetos\n"
     ]
    }
   ],
   "source": [
    "print('%d arquivos processados como %d objetos' % (len(lista_arquivos), sum(count_objetos.values())))"
   ]
  },
  {
   "cell_type": "code",
   "execution_count": 48,
   "metadata": {
    "ExecuteTime": {
     "end_time": "2019-10-07T14:27:38.241738Z",
     "start_time": "2019-10-07T14:27:08.292304Z"
    }
   },
   "outputs": [],
   "source": [
    "for arquivo in lista_arquivos:\n",
    "    xtree = ElementTree.parse(os.path.join(mercante.MERCANTE_DIR, arquivo))\n",
    "    xroot = xtree.getroot()\n",
    "    objetos = []\n",
    "    for node in xroot:\n",
    "        classe = mercante.classes_em_lista.get(node.tag)\n",
    "        if classe:\n",
    "            last_class_name = classe\n",
    "            classe_pai = mercante.classes.get(node.tag)\n",
    "            objeto_pai = classe_pai()\n",
    "            objeto_pai._parse_node(node)\n",
    "            tag_classe = classe.tag\n",
    "            for subnode in node.findall(tag_classe):\n",
    "                count_objetos[classe]+=1\n",
    "                objeto = classe(objeto_pai)\n",
    "                objeto._parse_node(subnode)\n",
    "                objetos.append(objeto._to_dict())\n",
    "            classe = mercante.classes_em_lista.get(node.tag)\n",
    "    if objetos and len(objetos) > 0:\n",
    "        df = pd.DataFrame(objetos)\n",
    "        classname = objeto.__class__.__name__\n",
    "        try:\n",
    "            df.to_sql(classname, engine, if_exists='append')\n",
    "        except Exception as err:\n",
    "            print('Erro ocorrido no arquivo %s.' % arquivo)\n",
    "            print(err)\n",
    "    "
   ]
  },
  {
   "cell_type": "code",
   "execution_count": 49,
   "metadata": {
    "ExecuteTime": {
     "end_time": "2019-10-07T14:27:38.263764Z",
     "start_time": "2019-10-07T14:27:38.245754Z"
    }
   },
   "outputs": [
    {
     "data": {
      "text/plain": [
       "Counter({mercante.Conhecimento: 14891,\n",
       "         mercante.ItemCarga: 36825,\n",
       "         mercante.Manifesto: 2235,\n",
       "         mercante.ExclusaoEscala: 8,\n",
       "         mercante.NCMItemCarga: 85058,\n",
       "         mercante.ConteinerVazio: 12862})"
      ]
     },
     "execution_count": 49,
     "metadata": {},
     "output_type": "execute_result"
    }
   ],
   "source": [
    "count_objetos"
   ]
  },
  {
   "cell_type": "code",
   "execution_count": null,
   "metadata": {},
   "outputs": [],
   "source": []
  }
 ],
 "metadata": {
  "kernelspec": {
   "display_name": "Python 3",
   "language": "python",
   "name": "python3"
  },
  "language_info": {
   "codemirror_mode": {
    "name": "ipython",
    "version": 3
   },
   "file_extension": ".py",
   "mimetype": "text/x-python",
   "name": "python",
   "nbconvert_exporter": "python",
   "pygments_lexer": "ipython3",
   "version": "3.7.3"
  }
 },
 "nbformat": 4,
 "nbformat_minor": 2
}
