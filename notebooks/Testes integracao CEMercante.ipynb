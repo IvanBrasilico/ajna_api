{
 "cells": [
  {
   "cell_type": "code",
   "execution_count": 13,
   "metadata": {
    "ExecuteTime": {
     "end_time": "2019-10-07T12:30:35.071429Z",
     "start_time": "2019-10-07T12:30:35.024907Z"
    }
   },
   "outputs": [
    {
     "name": "stdout",
     "output_type": "stream",
     "text": [
      "The autoreload extension is already loaded. To reload it, use:\n",
      "  %reload_ext autoreload\n"
     ]
    }
   ],
   "source": [
    "%load_ext autoreload\n",
    "%autoreload 2\n",
    "import pandas as pd\n",
    "import os\n",
    "import sqlalchemy\n",
    "\n",
    "from xml.etree import ElementTree\n",
    "\n",
    "import mercante\n",
    "\n",
    "engine = sqlalchemy.create_engine(\n",
    "    'mysql+mysqlconnector://ivan@localhost:3306/mercante')\n"
   ]
  },
  {
   "cell_type": "code",
   "execution_count": 15,
   "metadata": {
    "ExecuteTime": {
     "end_time": "2019-10-07T12:31:10.209189Z",
     "start_time": "2019-10-07T12:30:37.612089Z"
    }
   },
   "outputs": [],
   "source": [
    "lista_arquivos = os.listdir(mercante.MERCANTE_DIR)\n",
    "for arquivo in lista_arquivos:\n",
    "    xtree = ElementTree.parse(os.path.join(mercante.MERCANTE_DIR, arquivo))\n",
    "    xroot = xtree.getroot()\n",
    "    objetos = []\n",
    "    for node in xroot:\n",
    "        classe = mercante.classes.get(node.tag)\n",
    "        if classe:\n",
    "            # print(node.tag, node.text)\n",
    "            objeto = classe()\n",
    "            objeto._parse_node(node)\n",
    "            # objeto = Conhecimento()\n",
    "            # objeto._parse_node(node)\n",
    "            # print(objeto)\n",
    "            objetos.append(objeto._to_dict())\n",
    "    df = pd.DataFrame(objetos)\n",
    "    try:\n",
    "        df.to_sql(node.tag, engine, if_exists='append')\n",
    "    except Exception as err:\n",
    "        print('Erro ocorrido no arquivo %s.' % arquivo)\n",
    "        print(err, exc_info=True)\n",
    "    "
   ]
  },
  {
   "cell_type": "code",
   "execution_count": null,
   "metadata": {},
   "outputs": [],
   "source": []
  }
 ],
 "metadata": {
  "kernelspec": {
   "display_name": "Python 3",
   "language": "python",
   "name": "python3"
  },
  "language_info": {
   "codemirror_mode": {
    "name": "ipython",
    "version": 3
   },
   "file_extension": ".py",
   "mimetype": "text/x-python",
   "name": "python",
   "nbconvert_exporter": "python",
   "pygments_lexer": "ipython3",
   "version": "3.6.9"
  }
 },
 "nbformat": 4,
 "nbformat_minor": 2
}
