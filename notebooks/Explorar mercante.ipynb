{
 "cells": [
  {
   "cell_type": "code",
   "execution_count": 38,
   "metadata": {},
   "outputs": [],
   "source": [
    "import pandas as pd\n",
    "from xml.etree import ElementTree\n",
    "from xml.etree.ElementTree import Element\n",
    "\n",
    "import os\n",
    "\n",
    "\n",
    "MERCANTE = 'mercante'"
   ]
  },
  {
   "cell_type": "code",
   "execution_count": 39,
   "metadata": {},
   "outputs": [],
   "source": [
    "lista_arquivos = os.listdir(MERCANTE)"
   ]
  },
  {
   "cell_type": "code",
   "execution_count": 40,
   "metadata": {},
   "outputs": [],
   "source": [
    "with open(os.path.join(MERCANTE, lista_arquivos[0])) as file0:\n",
    "    content0 = file0.read()"
   ]
  },
  {
   "cell_type": "code",
   "execution_count": 41,
   "metadata": {},
   "outputs": [],
   "source": [
    "xtree = ElementTree.parse(os.path.join(MERCANTE, lista_arquivos[0]))\n",
    "xroot = xtree.getroot()"
   ]
  },
  {
   "cell_type": "code",
   "execution_count": 65,
   "metadata": {},
   "outputs": [
    {
     "name": "stdout",
     "output_type": "stream",
     "text": [
      "<Element 'cargas' at 0x000002CCB9775B38>\n",
      "<Element 'conhecimentosEmbarque' at 0x000002CCB9775A98>\n",
      "conhecimentosEmbarque\n",
      "tipoMovimento\n",
      "A\n",
      "dataAtualizacao\n",
      "2019-09-26\n",
      "horaAtualizacao\n",
      "23:55:19\n",
      "numeroCEmercante\n",
      "131905212301619\n",
      "tipoTrafego\n",
      "5\n",
      "numConhecimento\n",
      "TSYD011281\n",
      "tipoBLConhecimento\n",
      "11\n",
      "quantidadeFilhotes\n",
      "1\n",
      "cnpjAgenteDesconsolidador\n",
      "03094658000106\n",
      "empresaNVOCC\n",
      "CN004522\n",
      "dataEmissao\n",
      "2019-08-20\n",
      "cubagem\n",
      "0000000076.000\n",
      "portoDestFinal\n",
      "BRRIO\n",
      "portoOrigemCarga\n",
      "CNTXG\n",
      "descricao\n",
      " 52 PK (PACKAGE(S)).ALLOY WHEELINV NUMBER : DC00514C17109/DC00514C17109-1NCM: 8708.70.90PACKAGING : PROCESSED WOODFREIGHT PREPAID40HCX2*TEL:86 22 58853790FAX:86 22 5885379342ALLOY WHEELINV NUMBER : DC00514C17109/DC00514C17109-1NCM: 8708.70.90PACKAGING : PROCESSED WOODFREIGHT PREPAID40HCX2*TEL:86 22 58853790FAX:86 22 5885379310\n",
      "embarcador\n",
      "\n",
      "\n",
      "indicadorBLServico\n",
      "false\n",
      "indicadorBLOrdem\n",
      "false\n",
      "indicadorConsignatarioEstrangeiro\n",
      "false\n",
      "idEntrega\n",
      "false\n",
      "frete\n",
      "\n",
      "\n",
      "consignatario\n",
      "\n",
      "\n",
      "entregaExterior\n",
      "\n",
      "\n",
      "codigoTerminalDescarregamento\n",
      "BRRIO002\n",
      "paisProcedenciaCargaMercante\n",
      "CN\n",
      "ufDestinoCarga\n",
      "RJ\n",
      "portosTransbordo\n",
      "\n",
      "\n",
      "manifestoCE\n",
      "\n",
      "\n",
      "componentesFrete\n",
      "\n",
      "\n",
      "componentesFrete\n",
      "\n",
      "\n",
      "componentesFrete\n",
      "\n",
      "\n",
      "componentesFrete\n",
      "\n",
      "\n",
      "componentesFrete\n",
      "\n",
      "\n",
      "componentesFrete\n",
      "\n",
      "\n",
      "componentesFrete\n",
      "\n",
      "\n",
      "componentesFrete\n",
      "\n",
      "\n",
      "componentesFrete\n",
      "\n",
      "\n",
      "componentesFrete\n",
      "\n",
      "\n",
      "componentesFrete\n",
      "\n",
      "\n",
      "codigoEmpresaNavegacao\n",
      "05951386001455\n",
      "<Element 'conhecimentosEmbarque' at 0x000002CCB9A4A138>\n",
      "conhecimentosEmbarque\n",
      "tipoMovimento\n",
      "I\n",
      "dataAtualizacao\n",
      "2019-09-27\n",
      "horaAtualizacao\n",
      "00:01:03\n",
      "numeroCEmercante\n",
      "131905215824167\n",
      "tipoTrafego\n",
      "5\n",
      "numConhecimento\n",
      "TSN01792783\n",
      "tipoBLConhecimento\n",
      "12\n",
      "numeroCEMaster\n",
      "131905212301619\n",
      "dataEmissao\n",
      "2019-08-20\n",
      "cubagem\n",
      "0000000076.000\n",
      "portoDestFinal\n",
      "BRRIO\n",
      "portoOrigemCarga\n",
      "CNXGG\n",
      "descricao\n",
      "ALLOY WHEELS\n",
      "embarcador\n",
      "\n",
      "\n",
      "indicadorBLServico\n",
      "false\n",
      "indicadorBLOrdem\n",
      "false\n",
      "indicadorConsignatarioEstrangeiro\n",
      "false\n",
      "idEntrega\n",
      "false\n",
      "frete\n",
      "\n",
      "\n",
      "consignatario\n",
      "\n",
      "\n",
      "entregaExterior\n",
      "\n",
      "\n",
      "codigoTerminalDescarregamento\n",
      "BRRIO002\n",
      "paisProcedenciaCargaMercante\n",
      "CN\n",
      "ufDestinoCarga\n",
      "RJ\n",
      "indicadorShipsConvenience\n",
      "false\n",
      "portosTransbordo\n",
      "\n",
      "\n",
      "manifestoCE\n",
      "\n",
      "\n",
      "componentesFrete\n",
      "\n",
      "\n",
      "componentesFrete\n",
      "\n",
      "\n",
      "codigoEmpresaNavegacao\n",
      "05951386001455\n"
     ]
    }
   ],
   "source": [
    "print(xroot)\n",
    "for node in xroot:\n",
    "    print(node)\n",
    "    print(node.tag)\n",
    "    if isinstance(node, Element):\n",
    "        for subnode in node:\n",
    "            print(subnode.tag)\n",
    "            print(subnode.text)\n"
   ]
  },
  {
   "cell_type": "code",
   "execution_count": 136,
   "metadata": {},
   "outputs": [],
   "source": [
    "class Conhecimento:\n",
    "    numeroCEmercante:str = None\n",
    "    consignatario:str = None\n",
    "\n",
    "    \n",
    "    def _campos(self):\n",
    "        return [campo for campo in dir(Conhecimento) if campo[0] != '_']\n",
    "        \n",
    "    def __repr__(self):\n",
    "        repr = ' '.join([ campo + '-' + getattr(self, campo) for campo in self._campos()])\n",
    "        if repr is None:\n",
    "            return 'ERRO'\n",
    "        return repr\n",
    "        "
   ]
  },
  {
   "cell_type": "code",
   "execution_count": 137,
   "metadata": {},
   "outputs": [
    {
     "data": {
      "text/plain": [
       "['consignatario', 'numeroCEmercante']"
      ]
     },
     "execution_count": 137,
     "metadata": {},
     "output_type": "execute_result"
    }
   ],
   "source": [
    "Conhecimento()._campos()"
   ]
  },
  {
   "cell_type": "code",
   "execution_count": 138,
   "metadata": {},
   "outputs": [
    {
     "name": "stdout",
     "output_type": "stream",
     "text": [
      "consignatario\n",
      "\n",
      "\n",
      "numeroCEmercante\n",
      "131905212301619\n",
      "consignatario-\n",
      " numeroCEmercante-131905212301619\n",
      "consignatario\n",
      "\n",
      "\n",
      "numeroCEmercante\n",
      "131905215824167\n",
      "consignatario-\n",
      " numeroCEmercante-131905215824167\n"
     ]
    }
   ],
   "source": [
    "\n",
    "def parse_node(subnode, objeto):\n",
    "    for campo in objeto._campos():\n",
    "        print(campo)\n",
    "        print(subnode.find(campo).text)\n",
    "        setattr(objeto, campo, subnode.find(campo).text)\n",
    "    \n",
    "    \n",
    "for node in xroot:\n",
    "    if node.tag == 'conhecimentosEmbarque':\n",
    "        objeto = Conhecimento()\n",
    "    parse_node(node, objeto)\n",
    "    print(objeto)"
   ]
  },
  {
   "cell_type": "code",
   "execution_count": 139,
   "metadata": {},
   "outputs": [
    {
     "data": {
      "text/plain": [
       "[('consignatario', '\\n'), ('numeroCEmercante', '131905215824167')]"
      ]
     },
     "execution_count": 139,
     "metadata": {},
     "output_type": "execute_result"
    }
   ],
   "source": [
    "[(campo, getattr(objeto, campo)) for campo in objeto._campos()]"
   ]
  },
  {
   "cell_type": "code",
   "execution_count": 131,
   "metadata": {},
   "outputs": [
    {
     "data": {
      "text/plain": [
       "'consignatario-\\n numeroCEmercante-131905212301619'"
      ]
     },
     "execution_count": 131,
     "metadata": {},
     "output_type": "execute_result"
    }
   ],
   "source": [
    "' '.join([ campo + '-' + getattr(objeto, campo) for campo in objeto._campos()])"
   ]
  },
  {
   "cell_type": "code",
   "execution_count": null,
   "metadata": {},
   "outputs": [],
   "source": []
  }
 ],
 "metadata": {
  "kernelspec": {
   "display_name": "Python 3",
   "language": "python",
   "name": "python3"
  },
  "language_info": {
   "codemirror_mode": {
    "name": "ipython",
    "version": 3
   },
   "file_extension": ".py",
   "mimetype": "text/x-python",
   "name": "python",
   "nbconvert_exporter": "python",
   "pygments_lexer": "ipython3",
   "version": "3.7.3"
  }
 },
 "nbformat": 4,
 "nbformat_minor": 2
}
